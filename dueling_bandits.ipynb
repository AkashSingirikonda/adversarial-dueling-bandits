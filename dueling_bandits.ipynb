{
 "cells": [
  {
   "cell_type": "code",
   "execution_count": 1,
   "metadata": {},
   "outputs": [],
   "source": [
    "import numpy as np\n",
    "import random\n",
    "import math\n",
    "import matplotlib.pyplot as plt\n",
    "import plotly.express as px"
   ]
  },
  {
   "cell_type": "code",
   "execution_count": 2,
   "metadata": {},
   "outputs": [],
   "source": [
    "class DuelingBandits:\n",
    "    def __init__(self, num_arms, win_matrix, best_arm, time_horizon=1e10):\n",
    "        self.best_arm = best_arm\n",
    "        self.total_pulls = 0\n",
    "        self.history = []\n",
    "        self.time_horizon = time_horizon\n",
    "        self.regret = 0\n",
    "        self.num_arms = num_arms\n",
    "        self.win_matrix = win_matrix  # Win matrix. win_matrix[i][j] is the probability that arm i beats arm j\n",
    "        self.arms = {i:{'history':[], 'num_pulls':0, 'num_wins':0} for i in range(num_arms)}  # Set of arms\n",
    "    \n",
    "    def pull_arms(self, arm_1, arm_2):\n",
    "        \"\"\"Simulate pulling the selected arm and receiving a reward.\"\"\"\n",
    "        # Updates Globals:\n",
    "        self.total_pulls += 1\n",
    "\n",
    "        # Simulate pulling the arms\n",
    "        if (np.random.binomial(1, self.win_matrix[arm_1, arm_2]+0.5)):\n",
    "            winning_arm = arm_1\n",
    "            losing_arm = arm_2\n",
    "        else: \n",
    "            winning_arm = arm_2\n",
    "            losing_arm = arm_1\n",
    "        \n",
    "        # Updates the number of pulls for each arm\n",
    "        self.arms[arm_1]['num_pulls'] += 1\n",
    "        self.arms[arm_2]['num_pulls'] += 1\n",
    "\n",
    "        # Updates the number of wins for each arm\n",
    "        self.arms[winning_arm]['num_wins'] += 1\n",
    "        self.arms[losing_arm]['num_wins'] += 0\n",
    "\n",
    "        # Add to the history of each of the arms:\n",
    "        self.arms[arm_1]['history'].append({\"winner\": winning_arm, \"loser\": losing_arm, \"round\": self.total_pulls})\n",
    "        self.arms[arm_2]['history'].append({\"winner\": winning_arm, \"loser\": losing_arm, \"round\": self.total_pulls})\n",
    "\n",
    "        # Update the regret\n",
    "        self.regret += 0.5 * (self.win_matrix[self.best_arm, losing_arm] + self.win_matrix[self.best_arm, winning_arm])\n",
    "\n",
    "        # Add to the global history\n",
    "        self.history.append({\"winner\": winning_arm, \"loser\": losing_arm, \"round\": self.total_pulls, \"regret\": self.regret})\n",
    "        \n",
    "        return winning_arm\n",
    "    "
   ]
  },
  {
   "cell_type": "code",
   "execution_count": 3,
   "metadata": {},
   "outputs": [],
   "source": [
    "class sbm():\n",
    "\tdef __init__(self, n_arms, alpha=1):\n",
    "\t\tself.alpha = alpha\n",
    "\t\tself.num_arms = n_arms\n",
    "\n",
    "\tdef reset(self):\n",
    "\t\tself.averages = np.ones(self.num_arms)*math.inf\n",
    "\t\tself.pulls = np.ones(self.num_arms)\n",
    "\t\tself.time = 1\n",
    "\n",
    "\tdef random_argmax(self, array):\n",
    "\t\tmax_indices = np.where(array == array.max())[0]\n",
    "\t\tselected_index = np.random.choice(max_indices)\n",
    "\t\treturn selected_index\n",
    "\n",
    "\tdef advance(self):\n",
    "\t\tbound = self.averages + np.sqrt((self.alpha+2)*np.log(self.time)/(2*self.pulls))\n",
    "\t\tchoice = self.random_argmax(bound)\n",
    "\t\treturn choice\n",
    "\n",
    "\tdef feedback(self, arm, reward):\n",
    "\t\tself.time += 1\n",
    "\t\t\n",
    "\t\tif self.averages[arm] == math.inf:\n",
    "\t\t\tself.averages[arm] = reward\n",
    "\t\telse:\n",
    "\t\t\tself.averages[arm] = (self.averages[arm]*self.pulls[arm] + reward)/(self.pulls[arm]+1)\n",
    "\t\t\n",
    "\t\tself.pulls[arm] += 1"
   ]
  },
  {
   "cell_type": "code",
   "execution_count": 4,
   "metadata": {},
   "outputs": [],
   "source": [
    "class Doubler():\n",
    "\tdef __init__(self, bandit : DuelingBandits):\n",
    "\n",
    "\t\tself.bandit = bandit\n",
    "\t\tself.num_arms = bandit.num_arms\n",
    "\t\tself.sbm = sbm(bandit.num_arms)\n",
    "\n",
    "\t\tself.l = np.random.randint(self.num_arms, size=1)\n",
    "\t\tself.i, self.t = 1, 1\n",
    "\n",
    "\t\tself.time_horizon = bandit.time_horizon\n",
    "\n",
    "\tdef run(self):\n",
    "\t\twhile self.t < self.time_horizon:\n",
    "\t\t\t\t\t\t\n",
    "\t\t\tself.sbm.reset()\n",
    "\t\t\tnew_l = set()\n",
    "\n",
    "\t\t\tfor j in range(2**self.i):\n",
    "\t\t\t\txt = np.random.choice(self.l)\n",
    "\t\t\t\tyt = self.sbm.advance()\n",
    "\t\t\t\tnew_l.add(yt)\n",
    "\t\t\t\twinning_arm = self.bandit.pull_arms(xt, yt)\n",
    "\n",
    "\t\t\t\tif xt == winning_arm:\n",
    "\t\t\t\t\tself.sbm.feedback(yt, 0)\n",
    "\t\t\t\t\tself.sbm.feedback(xt, 1)\n",
    "\t\t\t\telse:\n",
    "\t\t\t\t\tself.sbm.feedback(yt, 1)\n",
    "\t\t\t\t\tself.sbm.feedback(xt, 0)\n",
    "\n",
    "\t\t\t\tself.t += 1\n",
    "\n",
    "\t\t\t\tif self.t >= self.time_horizon:\n",
    "\t\t\t\t\tbreak\n",
    "\n",
    "\t\t\tself.l = np.array(list(new_l))\n",
    "\t\t\tself.i += 1\n",
    "\n",
    "\t\treturn"
   ]
  },
  {
   "cell_type": "code",
   "execution_count": 5,
   "metadata": {},
   "outputs": [],
   "source": [
    "class MultiSBM():\n",
    "\tdef __init__(self, bandit : DuelingBandits):\n",
    "\n",
    "\t\tself.bandit = bandit\n",
    "\t\tself.num_arms = bandit.num_arms\n",
    "\t\tself.sbms = [sbm(bandit.num_arms) for i in range(self.num_arms)]\n",
    "\n",
    "\t\tself.t = 1\n",
    "\n",
    "\t\tself.time_horizon = bandit.time_horizon\n",
    "\n",
    "\tdef run(self):\n",
    "\t\tfor cursbm in self.sbms:\n",
    "\t\t\tcursbm.reset()\n",
    "\t\tyt_1 = np.random.choice(range(1, self.num_arms))\n",
    "\t\twhile self.t < self.time_horizon:\n",
    "\t\n",
    "\t\t\txt = yt_1\n",
    "\t\t\tcur_sbm = self.sbms[xt]\n",
    "\t\t\tyt = cur_sbm.advance()\n",
    "\n",
    "\t\t\t\n",
    "\t\t\twinning_arm = self.bandit.pull_arms(xt, yt)\n",
    "\n",
    "\t\t\tif xt == winning_arm:\n",
    "\t\t\t\tcur_sbm.feedback(yt, 0)\n",
    "\t\t\t\tcur_sbm.feedback(xt, 1)\n",
    "\t\t\telse:\n",
    "\t\t\t\tcur_sbm.feedback(yt, 1)\n",
    "\t\t\t\tcur_sbm.feedback(xt, 0)\n",
    "\t\t\t\t\n",
    "\t\t\t\tself.t += 1\n",
    "\n",
    "\t\t\t\tif self.t >= self.time_horizon:\n",
    "\t\t\t\t\tbreak\n",
    "\t\treturn "
   ]
  },
  {
   "cell_type": "code",
   "execution_count": 6,
   "metadata": {},
   "outputs": [],
   "source": [
    "class Sparring():\n",
    "\tdef __init__(self, bandit : DuelingBandits):\n",
    "\n",
    "\t\tself.bandit = bandit\n",
    "\t\tself.num_arms = bandit.num_arms\n",
    "\t\tself.sl = sbm(bandit.num_arms)\n",
    "\t\tself.sr = sbm(bandit.num_arms)\n",
    "\n",
    "\t\tself.t = 1\n",
    "\n",
    "\t\tself.time_horizon = bandit.time_horizon\n",
    "\n",
    "\tdef run(self):\n",
    "\t\t# Resetting the SBMs\n",
    "\t\tself.sl.reset()\n",
    "\t\tself.sr.reset()\n",
    "\t\t\n",
    "\t\twhile self.t < self.time_horizon:\n",
    "\t\t\txt = self.sl.advance()\n",
    "\t\t\tyt = self.sr.advance()\n",
    "\t\t\t\n",
    "\t\t\twinning_arm = self.bandit.pull_arms(xt, yt)\n",
    "\n",
    "\t\t\tif xt == winning_arm:\n",
    "\t\t\t\tself.sl.feedback(xt, 1)\n",
    "\t\t\t\tself.sr.feedback(yt, 0)\n",
    "\t\t\telse:\n",
    "\t\t\t\tself.sl.feedback(yt, 1)\n",
    "\t\t\t\tself.sr.feedback(xt, 0)\n",
    "\n",
    "\t\t\tself.t += 1\n",
    "\n",
    "\t\t\tif self.t >= self.time_horizon:\n",
    "\t\t\t\tbreak\n",
    "\t\treturn \n"
   ]
  },
  {
   "cell_type": "code",
   "execution_count": 7,
   "metadata": {},
   "outputs": [],
   "source": [
    "class IF1():\n",
    "\tdef __init__(self, bandit : DuelingBandits):\n",
    "\t\tself.bandit = bandit\n",
    "\t\tself.num_arms = bandit.num_arms\n",
    "\t\tself.t = 1\n",
    "\t\tself.time_horizon = bandit.time_horizon\n",
    "\t\tself.wins = np.zeros((self.num_arms, self.num_arms))\n",
    "\t\tself.P_hat = np.ones((self.num_arms, self.num_arms))*1/2\n",
    "\t\tself.n_rounds = np.zeros((self.num_arms, self.num_arms))\n",
    "\t\tself.c_hat = np.empty((self.num_arms, self.num_arms))\n",
    "\t\tself.delta = 1/(self.time_horizon*self.num_arms**2)\n",
    "\t\tself.T_hat = 0 # total comparisons made\n",
    "\n",
    "\tdef update(self, b_1, b_2, res):\n",
    "\t\tself.n_rounds[b_1, b_2] = self.n_rounds[b_1, b_2] + 1\n",
    "\t\tself.n_rounds[b_2, b_1] = self.n_rounds[b_2, b_1] + 1\n",
    "\t\tself.wins[b_1, b_2] += res\n",
    "\t\tself.wins[b_2, b_1] += (1-res)\n",
    "\t\tself.P_hat[b_1, b_2] = self.wins[b_1, b_2]/self.n_rounds[b_1, b_2]\n",
    "\t\tself.P_hat[b_2, b_1] = self.wins[b_2, b_1]/self.n_rounds[b_2, b_1]\n",
    "\t\tself.c_hat[b_1, b_2] = math.sqrt(math.log(1/self.delta)/self.n_rounds[b_1, b_2])\n",
    "\t\tself.c_hat[b_2, b_1] = math.sqrt(math.log(1/self.delta)/self.n_rounds[b_2, b_1])\n",
    "\t\n",
    "\tdef run(self):\n",
    "\t\t#def IF1(T, K, bandit):\n",
    "\t\t# runs interleaved filter 1 over K dueling-bandits with time horizon T\n",
    "\n",
    "\t\tW = np.arange(0, self.num_arms)\n",
    "\t\tb_hat = np.random.choice(self.num_arms)\n",
    "\t\tW = np.array(W[~np.isin(W, b_hat)])\n",
    "\n",
    "\t\twhile len(W) > 0:\n",
    "\t\t\tfor b in W:\n",
    "\t\t\t\tres = self.bandit.pull_arms(b_hat, b)\n",
    "\t\t\t\tif res == b_hat:\n",
    "\t\t\t\t\twon = 1\n",
    "\t\t\t\telse:\n",
    "\t\t\t\t\twon = 0\n",
    "\t\t\t\tself.T_hat += 1\n",
    "\t\t\t\tself.update(b_hat, b, won)\n",
    "\t\t\tb_to_remove = np.where(np.logical_and(self.P_hat[b_hat, :] > 1/2, \n",
    "\t\t\t\t(self.P_hat[b_hat, :] - self.c_hat[b_hat, :]) > 1/2))\n",
    "\t\t\tW = np.array(W[~np.isin(W, b_to_remove)])\n",
    "\t\t\tb_win = np.where(np.logical_and(self.P_hat[b_hat, :] < 1/2, \n",
    "\t\t\t\t(self.P_hat[b_hat, :] + self.c_hat[b_hat, :]) < 1/2))[0]\n",
    "\t\t\tif len(b_win) > 0:\n",
    "\t\t\t\tb_hat = b_win[np.random.choice(len(b_win))]\n",
    "\t\t\t\tW = np.array(W[(~(np.isin(W, b_hat)))])\n",
    "\t\t\t\tself.wins = np.zeros((self.num_arms, self.num_arms))\n",
    "\t\t\t\tself.P_hat = np.ones((self.num_arms, self.num_arms))*1/2\n",
    "\t\t\t\tself.n_rounds = np.zeros((self.num_arms, self.num_arms))\n",
    "\t\t\t\tself.c_hat = np.empty((self.num_arms, self.num_arms))\n",
    "\t\treturn (b_hat, self.T_hat)\n"
   ]
  },
  {
   "cell_type": "code",
   "execution_count": 8,
   "metadata": {},
   "outputs": [],
   "source": [
    "class IF2():\n",
    "\tdef __init__(self, bandit : DuelingBandits):\n",
    "\t\tself.bandit = bandit\n",
    "\t\tself.num_arms = bandit.num_arms\n",
    "\t\tself.t = 1\n",
    "\t\tself.time_horizon = bandit.time_horizon\n",
    "\t\tself.wins = np.zeros((self.num_arms, self.num_arms))\n",
    "\t\tself.P_hat = np.ones((self.num_arms, self.num_arms))*1/2\n",
    "\t\tself.n_rounds = np.zeros((self.num_arms, self.num_arms))\n",
    "\t\tself.c_hat = np.empty((self.num_arms, self.num_arms))\n",
    "\t\tself.delta = 1/(self.time_horizon*self.num_arms**2)\n",
    "\t\tself.T_hat = 0 # total comparisons made\n",
    "\n",
    "\tdef update(self, b_1, b_2, res):\n",
    "\t\tself.n_rounds[b_1, b_2] = self.n_rounds[b_1, b_2] + 1\n",
    "\t\tself.n_rounds[b_2, b_1] = self.n_rounds[b_2, b_1] + 1\n",
    "\t\tself.wins[b_1, b_2] += res\n",
    "\t\tself.wins[b_2, b_1] += (1-res)\n",
    "\t\tself.P_hat[b_1, b_2] = self.wins[b_1, b_2]/self.n_rounds[b_1, b_2]\n",
    "\t\tself.P_hat[b_2, b_1] = self.wins[b_2, b_1]/self.n_rounds[b_2, b_1]\n",
    "\t\tself.c_hat[b_1, b_2] = math.sqrt(math.log(1/self.delta)/self.n_rounds[b_1, b_2])\n",
    "\t\tself.c_hat[b_2, b_1] = math.sqrt(math.log(1/self.delta)/self.n_rounds[b_2, b_1])\n",
    "\t\n",
    "\tdef run(self):\n",
    "\t\t#def IF1(T, K, bandit):\n",
    "\t\t# runs interleaved filter 1 over K dueling-bandits with time horizon T\n",
    "\n",
    "\t\tW = np.arange(0, self.num_arms)\n",
    "\t\tb_hat = np.random.choice(self.num_arms)\n",
    "\t\tW = np.array(W[~np.isin(W, b_hat)])\n",
    "\n",
    "\t\twhile len(W) > 0:\n",
    "\t\t\tfor b in W:\n",
    "\t\t\t\tres = self.bandit.pull_arms(b_hat, b)\n",
    "\t\t\t\tif res == b_hat:\n",
    "\t\t\t\t\twon = 1\n",
    "\t\t\t\telse:\n",
    "\t\t\t\t\twon = 0\n",
    "\t\t\t\tself.T_hat += 1\n",
    "\t\t\t\tself.update(b_hat, b, won)\n",
    "\t\t\tb_to_remove = np.where(np.logical_and(self.P_hat[b_hat, :] > 1/2, \n",
    "\t\t\t\t(self.P_hat[b_hat, :] - self.c_hat[b_hat, :]) > 1/2))\n",
    "\t\t\tW = np.array(W[~np.isin(W, b_to_remove)])\n",
    "\t\t\tb_win = np.where(np.logical_and(self.P_hat[b_hat, :] < 1/2, \n",
    "\t\t\t\t(self.P_hat[b_hat, :] + self.c_hat[b_hat, :]) < 1/2))[0]\n",
    "\t\t\tif len(b_win) > 0:\n",
    "\t\t\t\t# Pruning Stage\n",
    "\t\t\t\tb_to_remove = np.where(self.P_hat[b_hat, :] > 1/2)\n",
    "\t\t\t\tW = np.array(W[(~(np.isin(W, b_to_remove)))])\n",
    "\t\t\t\t\n",
    "\t\t\t\tb_hat = b_win[np.random.choice(len(b_win))]\n",
    "\t\t\t\tW = np.array(W[(~(np.isin(W, b_hat)))])\n",
    "\t\t\t\tself.wins = np.zeros((self.num_arms, self.num_arms))\n",
    "\t\t\t\tself.P_hat = np.ones((self.num_arms, self.num_arms))*1/2\n",
    "\t\t\t\tself.n_rounds = np.zeros((self.num_arms, self.num_arms))\n",
    "\t\t\t\tself.c_hat = np.empty((self.num_arms, self.num_arms))\n",
    "\t\treturn (b_hat, self.T_hat)\n"
   ]
  },
  {
   "cell_type": "code",
   "execution_count": 9,
   "metadata": {},
   "outputs": [],
   "source": [
    "class btmb():\n",
    "\tdef __init__(self, bandit : DuelingBandits):\n",
    "\t\tself.bandit = bandit\n",
    "\t\tself.num_arms = bandit.num_arms\n",
    "\t\tself.t = 1\n",
    "\t\tself.time_horizon = bandit.time_horizon\n",
    "\t\tself.delta = 1/(2*self.num_arms*self.time_horizon)\n",
    "\t\tself.arm_histories = {i:{'history':[]} for i in range(self.num_arms)}\n",
    "\t\tself.num_comp = np.zeros(self.num_arms)\n",
    "\t\tself.num_wins = np.zeros(self.num_arms)\n",
    "\t\tself.P_hat = np.ones(self.num_arms)*1/2\n",
    "    \t# choose random bandit to start with out of those with fewest pulls\n",
    "\t\tself.c_star = 1\n",
    "\t\t\n",
    "\tdef confidence(self, n):\n",
    "\t\treturn math.sqrt(1/n * math.log(1/self.delta)) if n > 1 else 1\n",
    "\t\n",
    "\tdef update(self, b_1, b_2, res):\n",
    "\t\tself.n_rounds[b_1, b_2] = self.n_rounds[b_1, b_2] + 1\n",
    "\t\tself.n_rounds[b_2, b_1] = self.n_rounds[b_2, b_1] + 1\n",
    "\t\tself.wins[b_1, b_2] += res\n",
    "\t\tself.wins[b_2, b_1] += (1-res)\n",
    "\t\tself.P_hat[b_1, b_2] = self.wins[b_1, b_2]/self.n_rounds[b_1, b_2]\n",
    "\t\tself.P_hat[b_2, b_1] = self.wins[b_2, b_1]/self.n_rounds[b_2, b_1]\n",
    "\t\tself.c_hat[b_1, b_2] = math.sqrt(math.log(1/self.delta)/self.n_rounds[b_1, b_2])\n",
    "\t\tself.c_hat[b_2, b_1] = math.sqrt(math.log(1/self.delta)/self.n_rounds[b_2, b_1])\n",
    "\t\n",
    "\tdef run(self):\n",
    "\t\tW = np.arange(0, self.num_arms)\n",
    "\t\twhile len(W) > 1 and self.t < self.time_horizon:\n",
    "\t\t\tb = W[np.random.choice(np.flatnonzero(self.num_comp[W] == np.min(self.num_comp[W])))]\n",
    "\t\t\tb_prime = np.random.choice(W[(~(np.isin(W, b)))])\n",
    "\t\t\tres = self.bandit.pull_arms(b, b_prime)\n",
    "\t\t\tif res == b:\n",
    "\t\t\t\tlosing_arm = b_prime\n",
    "\t\t\telse:\n",
    "\t\t\t\tlosing_arm = b\n",
    "\t\t\tself.arm_histories[b]['history'].append({\"winner\": res, \"loser\": losing_arm})\n",
    "\t\t\tself.num_comp[b] += 1\n",
    "\t\t\tself.c_star = self.confidence(self.num_comp[b])\n",
    "\t\t\t\n",
    "\t\t\tif b == res:\n",
    "\t\t\t\tself.num_wins[b] += 1\n",
    "\t\t\t\tself.P_hat[b] = self.num_wins[b]/self.num_comp[b] \n",
    "\t\t\t\n",
    "\t\t\tself.t += 1\n",
    "\t\t\tif np.min(self.P_hat[W] + self.c_star) <= np.max(self.P_hat[W] - self.c_star):\n",
    "\t\t\t\tb_prime = W[np.random.choice(np.flatnonzero(self.P_hat[W] == np.min(self.P_hat[W])))]\n",
    "\t\t\t\tW = np.array(W[(~(np.isin(W, b_prime)))])\n",
    "\t\t\t\t# remove comparisons with b_prime from num_wins, num_comp\n",
    "\t\t\t\tfor b in W:\n",
    "\t\t\t\t\tlosers = np.array([i['loser'] for i in self.arm_histories[b]['history']])\n",
    "\t\t\t\t\tnum_beat_b_prime = np.sum(losers == b_prime)\n",
    "\t\t\t\t\t\n",
    "\t\t\t\t\twinners = [i['winner'] for i in self.arm_histories[b]['history']]\n",
    "\t\t\t\t\tnum_lost_to_b_prime = np.sum(winners == b_prime)\n",
    "\n",
    "\t\t\t\t\tself.num_wins[b] = self.num_wins[b] - num_beat_b_prime\n",
    "\t\t\t\t\tself.num_comp[b] = self.num_comp[b] - (num_beat_b_prime + num_lost_to_b_prime)\n",
    "\t\treturn W[np.argmax(self.P_hat[W])]"
   ]
  },
  {
   "cell_type": "code",
   "execution_count": 10,
   "metadata": {},
   "outputs": [],
   "source": [
    "def log_link(mu_i, mu_j):\n",
    "    return 1/(1+math.exp(mu_j-mu_i))"
   ]
  },
  {
   "cell_type": "code",
   "execution_count": 11,
   "metadata": {},
   "outputs": [],
   "source": [
    "def build_exp_2(K, link_func=log_link):\n",
    "    mu = np.random.normal(size=K)\n",
    "    best_arm = np.argmax(mu)\n",
    "    win_matrix = np.zeros((K, K))\n",
    "    for i in range(K):\n",
    "        for j in range(i+1, K):\n",
    "            win_matrix[i, j] = link_func(mu[i], mu[j]) - 0.5\n",
    "            win_matrix[j, i] = link_func(mu[j], mu[i]) - 0.5\n",
    "    return K, win_matrix, best_arm"
   ]
  },
  {
   "cell_type": "code",
   "execution_count": 12,
   "metadata": {},
   "outputs": [],
   "source": [
    "K, win_matrix, best_arm = build_exp_2(5)"
   ]
  },
  {
   "cell_type": "code",
   "execution_count": 13,
   "metadata": {},
   "outputs": [],
   "source": [
    "def ret_db():\n",
    "    return DuelingBandits(K, win_matrix, best_arm, time_horizon=1e5)"
   ]
  },
  {
   "cell_type": "code",
   "execution_count": 14,
   "metadata": {},
   "outputs": [],
   "source": [
    "def get_algorithm_regret_v_time(alg):\n",
    "    alg.run()\n",
    "    return list(map(lambda x: x['regret'], alg.bandit.history))"
   ]
  },
  {
   "cell_type": "code",
   "execution_count": 15,
   "metadata": {},
   "outputs": [],
   "source": [
    "algorithms = [IF1(ret_db()), IF2(ret_db()), btmb(ret_db()), Doubler(ret_db()), MultiSBM(ret_db()), Sparring(ret_db())]"
   ]
  },
  {
   "cell_type": "code",
   "execution_count": 16,
   "metadata": {},
   "outputs": [],
   "source": [
    "algorithm_names = [\"IF1\", \"IF2\", \"BTMB\", \"Doubler\", \"MultiSBM\", \"Sparring\"]"
   ]
  },
  {
   "cell_type": "code",
   "execution_count": 17,
   "metadata": {},
   "outputs": [
    {
     "data": {
      "text/plain": [
       "array([[ 0.        , -0.01472467,  0.09730572,  0.41226094,  0.33287594],\n",
       "       [ 0.01472467,  0.        ,  0.11139198,  0.41686349,  0.34091661],\n",
       "       [-0.09730572, -0.11139198,  0.        ,  0.37515276,  0.27063441],\n",
       "       [-0.41226094, -0.41686349, -0.37515276,  0.        , -0.17599148],\n",
       "       [-0.33287594, -0.34091661, -0.27063441,  0.17599148,  0.        ]])"
      ]
     },
     "execution_count": 17,
     "metadata": {},
     "output_type": "execute_result"
    }
   ],
   "source": [
    "win_matrix"
   ]
  },
  {
   "cell_type": "code",
   "execution_count": 18,
   "metadata": {},
   "outputs": [
    {
     "ename": "TypeError",
     "evalue": "sbm.random_argmax() takes 1 positional argument but 2 were given",
     "output_type": "error",
     "traceback": [
      "\u001b[0;31m---------------------------------------------------------------------------\u001b[0m",
      "\u001b[0;31mTypeError\u001b[0m                                 Traceback (most recent call last)",
      "\u001b[1;32m/Users/akash/Brown/cs2952q/new_adversarial_bandits/adversarial-dueling-bandits/dueling_bandits.ipynb Cell 18\u001b[0m line \u001b[0;36m2\n\u001b[1;32m      <a href='vscode-notebook-cell:/Users/akash/Brown/cs2952q/new_adversarial_bandits/adversarial-dueling-bandits/dueling_bandits.ipynb#X65sZmlsZQ%3D%3D?line=0'>1</a>\u001b[0m to_test \u001b[39m=\u001b[39m \u001b[39m5\u001b[39m\n\u001b[0;32m----> <a href='vscode-notebook-cell:/Users/akash/Brown/cs2952q/new_adversarial_bandits/adversarial-dueling-bandits/dueling_bandits.ipynb#X65sZmlsZQ%3D%3D?line=1'>2</a>\u001b[0m algorithms[to_test]\u001b[39m.\u001b[39mrun()\n\u001b[1;32m      <a href='vscode-notebook-cell:/Users/akash/Brown/cs2952q/new_adversarial_bandits/adversarial-dueling-bandits/dueling_bandits.ipynb#X65sZmlsZQ%3D%3D?line=2'>3</a>\u001b[0m \u001b[39mfor\u001b[39;00m i \u001b[39min\u001b[39;00m \u001b[39mrange\u001b[39m(K):\n\u001b[1;32m      <a href='vscode-notebook-cell:/Users/akash/Brown/cs2952q/new_adversarial_bandits/adversarial-dueling-bandits/dueling_bandits.ipynb#X65sZmlsZQ%3D%3D?line=3'>4</a>\u001b[0m     \u001b[39mprint\u001b[39m(algorithms[to_test]\u001b[39m.\u001b[39mbandit\u001b[39m.\u001b[39marms[i][\u001b[39m'\u001b[39m\u001b[39mnum_pulls\u001b[39m\u001b[39m'\u001b[39m])\n",
      "\u001b[1;32m/Users/akash/Brown/cs2952q/new_adversarial_bandits/adversarial-dueling-bandits/dueling_bandits.ipynb Cell 18\u001b[0m line \u001b[0;36m1\n\u001b[1;32m     <a href='vscode-notebook-cell:/Users/akash/Brown/cs2952q/new_adversarial_bandits/adversarial-dueling-bandits/dueling_bandits.ipynb#X65sZmlsZQ%3D%3D?line=15'>16</a>\u001b[0m \u001b[39mself\u001b[39m\u001b[39m.\u001b[39msr\u001b[39m.\u001b[39mreset()\n\u001b[1;32m     <a href='vscode-notebook-cell:/Users/akash/Brown/cs2952q/new_adversarial_bandits/adversarial-dueling-bandits/dueling_bandits.ipynb#X65sZmlsZQ%3D%3D?line=17'>18</a>\u001b[0m \u001b[39mwhile\u001b[39;00m \u001b[39mself\u001b[39m\u001b[39m.\u001b[39mt \u001b[39m<\u001b[39m \u001b[39mself\u001b[39m\u001b[39m.\u001b[39mtime_horizon:\n\u001b[0;32m---> <a href='vscode-notebook-cell:/Users/akash/Brown/cs2952q/new_adversarial_bandits/adversarial-dueling-bandits/dueling_bandits.ipynb#X65sZmlsZQ%3D%3D?line=18'>19</a>\u001b[0m \txt \u001b[39m=\u001b[39m \u001b[39mself\u001b[39m\u001b[39m.\u001b[39msl\u001b[39m.\u001b[39madvance()\n\u001b[1;32m     <a href='vscode-notebook-cell:/Users/akash/Brown/cs2952q/new_adversarial_bandits/adversarial-dueling-bandits/dueling_bandits.ipynb#X65sZmlsZQ%3D%3D?line=19'>20</a>\u001b[0m \tyt \u001b[39m=\u001b[39m \u001b[39mself\u001b[39m\u001b[39m.\u001b[39msr\u001b[39m.\u001b[39madvance()\n\u001b[1;32m     <a href='vscode-notebook-cell:/Users/akash/Brown/cs2952q/new_adversarial_bandits/adversarial-dueling-bandits/dueling_bandits.ipynb#X65sZmlsZQ%3D%3D?line=21'>22</a>\u001b[0m \twinning_arm \u001b[39m=\u001b[39m \u001b[39mself\u001b[39m\u001b[39m.\u001b[39mbandit\u001b[39m.\u001b[39mpull_arms(xt, yt)\n",
      "\u001b[1;32m/Users/akash/Brown/cs2952q/new_adversarial_bandits/adversarial-dueling-bandits/dueling_bandits.ipynb Cell 18\u001b[0m line \u001b[0;36m1\n\u001b[1;32m     <a href='vscode-notebook-cell:/Users/akash/Brown/cs2952q/new_adversarial_bandits/adversarial-dueling-bandits/dueling_bandits.ipynb#X65sZmlsZQ%3D%3D?line=15'>16</a>\u001b[0m \u001b[39mdef\u001b[39;00m \u001b[39madvance\u001b[39m(\u001b[39mself\u001b[39m):\n\u001b[1;32m     <a href='vscode-notebook-cell:/Users/akash/Brown/cs2952q/new_adversarial_bandits/adversarial-dueling-bandits/dueling_bandits.ipynb#X65sZmlsZQ%3D%3D?line=16'>17</a>\u001b[0m \tbound \u001b[39m=\u001b[39m \u001b[39mself\u001b[39m\u001b[39m.\u001b[39maverages \u001b[39m+\u001b[39m np\u001b[39m.\u001b[39msqrt((\u001b[39mself\u001b[39m\u001b[39m.\u001b[39malpha\u001b[39m+\u001b[39m\u001b[39m2\u001b[39m)\u001b[39m*\u001b[39mnp\u001b[39m.\u001b[39mlog(\u001b[39mself\u001b[39m\u001b[39m.\u001b[39mtime)\u001b[39m/\u001b[39m(\u001b[39m2\u001b[39m\u001b[39m*\u001b[39m\u001b[39mself\u001b[39m\u001b[39m.\u001b[39mpulls))\n\u001b[0;32m---> <a href='vscode-notebook-cell:/Users/akash/Brown/cs2952q/new_adversarial_bandits/adversarial-dueling-bandits/dueling_bandits.ipynb#X65sZmlsZQ%3D%3D?line=17'>18</a>\u001b[0m \tchoice \u001b[39m=\u001b[39m \u001b[39mself\u001b[39m\u001b[39m.\u001b[39mrandom_argmax(bound)\n\u001b[1;32m     <a href='vscode-notebook-cell:/Users/akash/Brown/cs2952q/new_adversarial_bandits/adversarial-dueling-bandits/dueling_bandits.ipynb#X65sZmlsZQ%3D%3D?line=18'>19</a>\u001b[0m \t\u001b[39mreturn\u001b[39;00m choice\n",
      "\u001b[0;31mTypeError\u001b[0m: sbm.random_argmax() takes 1 positional argument but 2 were given"
     ]
    }
   ],
   "source": [
    "to_test = 5\n",
    "algorithms[to_test].run()\n",
    "for i in range(K):\n",
    "    print(algorithms[to_test].bandit.arms[i]['num_pulls'])"
   ]
  },
  {
   "cell_type": "code",
   "execution_count": null,
   "metadata": {},
   "outputs": [],
   "source": [
    "winners = [i[\"winner\"] for i in algorithms[to_test].bandit.history]\n",
    "losers = [i[\"loser\"] for i in algorithms[to_test].bandit.history]\n",
    "diff = np.where(np.array(winners) != np.array(losers))[0]"
   ]
  },
  {
   "cell_type": "code",
   "execution_count": null,
   "metadata": {},
   "outputs": [
    {
     "data": {
      "text/plain": [
       "array([], dtype=int64)"
      ]
     },
     "execution_count": 30,
     "metadata": {},
     "output_type": "execute_result"
    }
   ],
   "source": [
    "diff"
   ]
  },
  {
   "cell_type": "code",
   "execution_count": null,
   "metadata": {},
   "outputs": [],
   "source": [
    "results = list(map(get_algorithm_regret_v_time, algorithms))"
   ]
  },
  {
   "cell_type": "code",
   "execution_count": null,
   "metadata": {},
   "outputs": [
    {
     "data": {
      "image/png": "[encoded data removed]",
      "text/plain": [
       "<Figure size 640x480 with 1 Axes>"
      ]
     },
     "metadata": {},
     "output_type": "display_data"
    }
   ],
   "source": [
    "for i in range(len(results)):\n",
    "    index = np.arange(len(results[i]))\n",
    "    plt.plot(index, results[i], label=algorithm_names[i])\n",
    "\n",
    "# Add labels and legend\n",
    "plt.xlabel('Index')\n",
    "plt.ylabel('Regret')\n",
    "plt.legend()\n",
    "\n",
    "# Show the plot\n",
    "plt.show()"
   ]
  },
  {
   "cell_type": "code",
   "execution_count": null,
   "metadata": {},
   "outputs": [],
   "source": []
  },
  {
   "cell_type": "code",
   "execution_count": null,
   "metadata": {},
   "outputs": [],
   "source": [
    "# Defining a strategy:\n",
    "class Strategy:\n",
    "    def __init__(self, arm, budget_ini, budget_rem, num_arms, time_horizon):\n",
    "        self.arm = arm\n",
    "        self.num_arms = num_arms\n",
    "        self.time_horizon = time_horizon\n",
    "        self.budget_ini = budget_ini\n",
    "        self.budget_rem = budget_rem\n",
    "        self.num_pulls = 0\n",
    "\n",
    "    def bribe(self, history, curTime):\n",
    "\n",
    "        return\n"
   ]
  }
 ],
 "metadata": {
  "kernelspec": {
   "display_name": "Python 3 (ipykernel)",
   "language": "python",
   "name": "python3"
  },
  "language_info": {
   "codemirror_mode": {
    "name": "ipython",
    "version": 3
   },
   "file_extension": ".py",
   "mimetype": "text/x-python",
   "name": "python",
   "nbconvert_exporter": "python",
   "pygments_lexer": "ipython3",
   "version": "3.11.4"
  },
  "vscode": {
   "interpreter": {
    "hash": "397704579725e15f5c7cb49fe5f0341eb7531c82d19f2c29d197e8b64ab5776b"
   }
  }
 },
 "nbformat": 4,
 "nbformat_minor": 4
}
