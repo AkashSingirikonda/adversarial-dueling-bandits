{
 "cells": [
  {
   "cell_type": "code",
   "execution_count": 1,
   "metadata": {},
   "outputs": [],
   "source": [
    "import numpy as np\n",
    "import random\n",
    "import math"
   ]
  },
  {
   "cell_type": "code",
   "execution_count": null,
   "metadata": {},
   "outputs": [],
   "source": [
    "class DuelingBandits:\n",
    "    def __init__(self, num_arms, win_matrix, best_arm, time_horizon=10^10):\n",
    "        self.best_arm = best_arm\n",
    "        self.total_pulls = 0\n",
    "        self.history = []\n",
    "        self.time_horizon = time_horizon\n",
    "        self.regret = 0\n",
    "        self.num_arms = num_arms\n",
    "        self.win_matrix = win_matrix  # Win matrix. win_matrix[i][j] is the probability that arm i beats arm j\n",
    "        self.arms = {i:{'history':[], 'num_pulls':0, 'num_wins':0} for i in range(num_arms)}  # Set of arms\n",
    "    \n",
    "    def pull_arms(self, arm_1, arm_2):\n",
    "        \"\"\"Simulate pulling the selected arm and receiving a reward.\"\"\"\n",
    "        # Updates Globals:\n",
    "        self.total_pulls += 1\n",
    "\n",
    "        # Simulate pulling the arms\n",
    "        if (np.random.binomial(1, self.win_matrix[arm_1, arm_2]+0.5)):\n",
    "            winning_arm = arm_1\n",
    "            losing_arm = arm_2\n",
    "        else: \n",
    "            winning_arm = arm_2\n",
    "            losing_arm = arm_1\n",
    "        \n",
    "        # Updates the number of pulls for each arm\n",
    "        self.arms[arm_1]['num_pulls'] += 1\n",
    "        self.arms[arm_2]['num_pulls'] += 1\n",
    "\n",
    "        # Updates the number of wins for each arm\n",
    "        self.arms[winning_arm]['num_wins'] += 1\n",
    "        self.arms[losing_arm]['num_wins'] += 0\n",
    "\n",
    "        # Add to the history of each of the arms:\n",
    "        self.arms[arm_1]['history'].append({\"winner\": winning_arm, \"loser\": losing_arm, \"round\": self.total_pulls})\n",
    "        self.arms[arm_2]['history'].append({\"winner\": winning_arm, \"loser\": losing_arm, \"round\": self.total_pulls})\n",
    "\n",
    "        # Add to the global history\n",
    "        self.history.append({\"winner\": winning_arm, \"loser\": losing_arm, \"round\": self.total_pulls})\n",
    "        \n",
    "        return winning_arm\n",
    "    "
   ]
  },
  {
   "cell_type": "code",
   "execution_count": 2,
   "metadata": {},
   "outputs": [],
   "source": [
    "# e_i,j = 0.1 for all b_i > b_j (beat the mean example 1)\n",
    "K = 5 # number of bandits\n",
    "T = 10^10 # time horizon\n",
    "\n",
    "Eps = np.zeros((K, K))\n",
    "for i in range(K):\n",
    "    for j in range(i+1, K):\n",
    "        Eps[i, j] = -0.1\n",
    "        Eps[j, i] = 0.1"
   ]
  },
  {
   "cell_type": "code",
   "execution_count": 3,
   "metadata": {},
   "outputs": [],
   "source": [
    "def round(b_1, b_2, eps):\n",
    "    # returns the result for draw b_1 vs. b_2\n",
    "    return np.random.binomial(1, eps[b_1, b_2]+0.5)"
   ]
  },
  {
   "cell_type": "code",
   "execution_count": 4,
   "metadata": {},
   "outputs": [
    {
     "name": "stdout",
     "output_type": "stream",
     "text": [
      "[506.]\n"
     ]
    }
   ],
   "source": [
    "res = np.empty((1000, 1))\n",
    "for i in range(1000):\n",
    "    res[i] = round(1, 1, Eps)\n",
    "\n",
    "print(sum(res))"
   ]
  },
  {
   "cell_type": "code",
   "execution_count": 5,
   "metadata": {},
   "outputs": [],
   "source": [
    "import pdb\n",
    "def IF1(T, K, Eps):\n",
    "    # runs interleaved filter 1 over K dueling-bandits with time-horizon T\n",
    "    # win probability matrix Eps\n",
    "    wins = np.zeros((K, K))\n",
    "    P_hat = np.ones((K, K))*1/2\n",
    "    n_rounds = np.zeros((K, K))\n",
    "    c_hat = np.empty((K, K))\n",
    "    delta = 1/(T*K^2)\n",
    "    T_hat = 0 # total comparisons made\n",
    "\n",
    "    def update(b_1, b_2, res):\n",
    "        n_rounds[b_1, b_2] = n_rounds[b_1, b_2] + 1\n",
    "        n_rounds[b_2, b_1] = n_rounds[b_2, b_1] + 1\n",
    "        wins[b_1, b_2] += res\n",
    "        wins[b_2, b_1] += (1-res)\n",
    "        P_hat[b_1, b_2] = wins[b_1, b_2]/n_rounds[b_1, b_2]\n",
    "        P_hat[b_2, b_1] = wins[b_2, b_1]/n_rounds[b_2, b_1]\n",
    "        c_hat[b_1, b_2] = math.sqrt(math.log(1/delta)/n_rounds[b_1, b_2])\n",
    "        c_hat[b_2, b_1] = math.sqrt(math.log(1/delta)/n_rounds[b_2, b_1])\n",
    "\n",
    "    W = np.arange(0, K)\n",
    "    b_hat = np.random.choice(K)\n",
    "    W = np.array(W[~np.isin(W, b_hat)])\n",
    "    while len(W) > 0:\n",
    "        print(W)\n",
    "        for b in W:\n",
    "            res = round(b_hat, b, Eps)\n",
    "            T_hat += 1\n",
    "            update(b_hat, b, res)\n",
    "        b_to_remove = np.where(np.logical_and(P_hat[b_hat, :] > 1/2, \n",
    "            (P_hat[b_hat, :] - c_hat[b_hat, :]) > 1/2))\n",
    "        W = np.array(W[~np.isin(W, b_to_remove)])\n",
    "        b_win = np.where(np.logical_and(P_hat[b_hat, :] < 1/2, \n",
    "            (P_hat[b_hat, :] + c_hat[b_hat, :]) < 1/2))[0]\n",
    "        if len(b_win) > 0:\n",
    "            b_hat = b_win[np.random.choice(len(b_win))]\n",
    "            W = np.array(W[(~(np.isin(W, b_hat)))])\n",
    "            wins = np.zeros((K, K))\n",
    "            P_hat = np.ones((K, K))*1/2\n",
    "            n_rounds = np.zeros((K, K))\n",
    "            c_hat = np.empty((K, K))\n",
    "    \n",
    "    return (b_hat, T_hat)\n",
    "\n"
   ]
  },
  {
   "cell_type": "code",
   "execution_count": 6,
   "metadata": {},
   "outputs": [
    {
     "name": "stdout",
     "output_type": "stream",
     "text": [
      "[0 1 2 4]\n",
      "[0 1 2 4]\n",
      "[0 1 2 4]\n",
      "[0 2]\n",
      "[0 2]\n",
      "[0 2]\n",
      "(4, 18)\n"
     ]
    }
   ],
   "source": [
    "print(IF1(T, K, Eps))"
   ]
  },
  {
   "cell_type": "code",
   "execution_count": null,
   "metadata": {},
   "outputs": [],
   "source": []
  }
 ],
 "metadata": {
  "kernelspec": {
   "display_name": "Python 3 (ipykernel)",
   "language": "python",
   "name": "python3"
  },
  "language_info": {
   "codemirror_mode": {
    "name": "ipython",
    "version": 3
   },
   "file_extension": ".py",
   "mimetype": "text/x-python",
   "name": "python",
   "nbconvert_exporter": "python",
   "pygments_lexer": "ipython3",
   "version": "3.11.5"
  },
  "vscode": {
   "interpreter": {
    "hash": "397704579725e15f5c7cb49fe5f0341eb7531c82d19f2c29d197e8b64ab5776b"
   }
  }
 },
 "nbformat": 4,
 "nbformat_minor": 4
}
