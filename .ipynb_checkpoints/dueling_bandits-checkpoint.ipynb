{
 "cells": [
  {
   "cell_type": "code",
   "execution_count": 6,
   "metadata": {},
   "outputs": [],
   "source": [
    "import numpy as np\n",
    "import random\n",
    "import math"
   ]
  },
  {
   "cell_type": "code",
   "execution_count": 7,
   "metadata": {},
   "outputs": [],
   "source": [
    "class DuelingBandits:\n",
    "    def __init__(self, num_arms, win_matrix, best_arm, time_horizon=1e10):\n",
    "        self.best_arm = best_arm\n",
    "        self.total_pulls = 0\n",
    "        self.history = []\n",
    "        self.time_horizon = time_horizon\n",
    "        self.regret = 0\n",
    "        self.num_arms = num_arms\n",
    "        self.win_matrix = win_matrix  # Win matrix. win_matrix[i][j] is the probability that arm i beats arm j\n",
    "        self.arms = {i:{'history':[], 'num_pulls':0, 'num_wins':0} for i in range(num_arms)}  # Set of arms\n",
    "    \n",
    "    def pull_arms(self, arm_1, arm_2):\n",
    "        \"\"\"Simulate pulling the selected arm and receiving a reward.\"\"\"\n",
    "        # Updates Globals:\n",
    "        self.total_pulls += 1\n",
    "\n",
    "        # Simulate pulling the arms\n",
    "        if (np.random.binomial(1, self.win_matrix[arm_1, arm_2]+0.5)):\n",
    "            winning_arm = arm_1\n",
    "            losing_arm = arm_2\n",
    "        else: \n",
    "            winning_arm = arm_2\n",
    "            losing_arm = arm_1\n",
    "        \n",
    "        # Updates the number of pulls for each arm\n",
    "        self.arms[arm_1]['num_pulls'] += 1\n",
    "        self.arms[arm_2]['num_pulls'] += 1\n",
    "\n",
    "        # Updates the number of wins for each arm\n",
    "        self.arms[winning_arm]['num_wins'] += 1\n",
    "        self.arms[losing_arm]['num_wins'] += 0\n",
    "\n",
    "        # Add to the history of each of the arms:\n",
    "        self.arms[arm_1]['history'].append({\"winner\": winning_arm, \"loser\": losing_arm, \"round\": self.total_pulls})\n",
    "        self.arms[arm_2]['history'].append({\"winner\": winning_arm, \"loser\": losing_arm, \"round\": self.total_pulls})\n",
    "\n",
    "        # Add to the global history\n",
    "        self.history.append({\"winner\": winning_arm, \"loser\": losing_arm, \"round\": self.total_pulls})\n",
    "        \n",
    "        # Update the regret\n",
    "        self.regret += 0.5 * (self.win_matrix[self.best_arm, losing_arm] + self.win_matrix[self.best_arm, winning_arm])\n",
    "\n",
    "        return winning_arm\n",
    "    "
   ]
  },
  {
   "cell_type": "code",
   "execution_count": 173,
   "metadata": {},
   "outputs": [],
   "source": [
    "# e_i,j = 0.1 for all b_i > b_j (beat the mean example 1)\n",
    "K = 50 # number of bandits\n",
    "T = 1e10 # time horizon\n",
    "\n",
    "Eps = np.zeros((K, K))\n",
    "for i in range(K):\n",
    "    for j in range(i+1, K):\n",
    "        Eps[i, j] = -0.1\n",
    "        Eps[j, i] = 0.1"
   ]
  },
  {
   "cell_type": "code",
   "execution_count": 164,
   "metadata": {},
   "outputs": [],
   "source": [
    "def IF1(T, K, bandit):\n",
    "    # runs interleaved filter 1 over K dueling-bandits with time horizon T\n",
    "    wins = np.zeros((K, K))\n",
    "    P_hat = np.ones((K, K))*1/2\n",
    "    n_rounds = np.zeros((K, K))\n",
    "    c_hat = np.empty((K, K))\n",
    "    delta = 1/(T*K**2)\n",
    "    T_hat = 0 # total comparisons made\n",
    "    def update(b_1, b_2, res):\n",
    "        n_rounds[b_1, b_2] = n_rounds[b_1, b_2] + 1\n",
    "        n_rounds[b_2, b_1] = n_rounds[b_2, b_1] + 1\n",
    "        wins[b_1, b_2] += res\n",
    "        wins[b_2, b_1] += (1-res)\n",
    "        P_hat[b_1, b_2] = wins[b_1, b_2]/n_rounds[b_1, b_2]\n",
    "        P_hat[b_2, b_1] = wins[b_2, b_1]/n_rounds[b_2, b_1]\n",
    "        c_hat[b_1, b_2] = math.sqrt(math.log(1/delta)/n_rounds[b_1, b_2])\n",
    "        c_hat[b_2, b_1] = math.sqrt(math.log(1/delta)/n_rounds[b_2, b_1])\n",
    "\n",
    "    W = np.arange(0, K)\n",
    "    b_hat = np.random.choice(K)\n",
    "    W = np.array(W[~np.isin(W, b_hat)])\n",
    "    while len(W) > 0:\n",
    "        for b in W:\n",
    "            res = bandit.pull_arms(b_hat, b)\n",
    "            if res == b_hat:\n",
    "                won = 1\n",
    "            else:\n",
    "                won = 0\n",
    "            T_hat += 1\n",
    "            update(b_hat, b, won)\n",
    "        b_to_remove = np.where(np.logical_and(P_hat[b_hat, :] > 1/2, \n",
    "            (P_hat[b_hat, :] - c_hat[b_hat, :]) > 1/2))\n",
    "        W = np.array(W[~np.isin(W, b_to_remove)])\n",
    "        b_win = np.where(np.logical_and(P_hat[b_hat, :] < 1/2, \n",
    "            (P_hat[b_hat, :] + c_hat[b_hat, :]) < 1/2))[0]\n",
    "        if len(b_win) > 0:\n",
    "            b_hat = b_win[np.random.choice(len(b_win))]\n",
    "            W = np.array(W[(~(np.isin(W, b_hat)))])\n",
    "            wins = np.zeros((K, K))\n",
    "            P_hat = np.ones((K, K))*1/2\n",
    "            n_rounds = np.zeros((K, K))\n",
    "            c_hat = np.empty((K, K))\n",
    "    \n",
    "    return (b_hat, T_hat)"
   ]
  },
  {
   "cell_type": "code",
   "execution_count": 165,
   "metadata": {},
   "outputs": [
    {
     "name": "stdout",
     "output_type": "stream",
     "text": [
      "(9, 62211)\n"
     ]
    }
   ],
   "source": [
    "bandit = DuelingBandits(K, Eps, K-1, T)\n",
    "print(IF1(T, K, bandit))"
   ]
  },
  {
   "cell_type": "code",
   "execution_count": 166,
   "metadata": {},
   "outputs": [],
   "source": [
    "def IF2(T, K, bandit):\n",
    "    # runs interleaved filter 2 over K dueling-bandits with time horizon T\n",
    "    wins = np.zeros((K, K))\n",
    "    P_hat = np.ones((K, K))*1/2\n",
    "    n_rounds = np.zeros((K, K))\n",
    "    c_hat = np.empty((K, K))\n",
    "    delta = 1/(T*K**2)\n",
    "    T_hat = 0 # total comparisons made\n",
    "    \n",
    "    def update(b_1, b_2, res):\n",
    "        #res = 1 if b_1 beat b_2, 0 otherwise\n",
    "        n_rounds[b_1, b_2] = n_rounds[b_1, b_2] + 1\n",
    "        n_rounds[b_2, b_1] = n_rounds[b_2, b_1] + 1\n",
    "        wins[b_1, b_2] += res\n",
    "        wins[b_2, b_1] += (1-res)\n",
    "        P_hat[b_1, b_2] = wins[b_1, b_2]/n_rounds[b_1, b_2]\n",
    "        P_hat[b_2, b_1] = wins[b_2, b_1]/n_rounds[b_2, b_1]\n",
    "        c_hat[b_1, b_2] = math.sqrt(math.log(1/delta)/n_rounds[b_1, b_2])\n",
    "        c_hat[b_2, b_1] = math.sqrt(math.log(1/delta)/n_rounds[b_2, b_1])\n",
    "\n",
    "    W = np.arange(0, K)\n",
    "    b_hat = np.random.choice(K)\n",
    "    W = np.array(W[~np.isin(W, b_hat)])\n",
    "    while len(W) > 0:\n",
    "        for b in W:\n",
    "            res = bandit.pull_arms(b_hat, b)\n",
    "            if res == b_hat:\n",
    "                won = 1\n",
    "            else:\n",
    "                won = 0\n",
    "            T_hat += 1\n",
    "            update(b_hat, b, won)\n",
    "        b_to_remove = np.where(np.logical_and(P_hat[b_hat, :] > 1/2, \n",
    "            (P_hat[b_hat, :] - c_hat[b_hat, :]) > 1/2))\n",
    "        W = np.array(W[~np.isin(W, b_to_remove)])\n",
    "        b_win = np.where(np.logical_and(P_hat[b_hat, :] < 1/2, \n",
    "            (P_hat[b_hat, :] + c_hat[b_hat, :]) < 1/2))[0]\n",
    "        if len(b_win) > 0:\n",
    "            # pruning step\n",
    "            b_to_remove = np.where(P_hat[b_hat, :] > 1/2)\n",
    "            W = np.array(W[(~(np.isin(W, b_to_remove)))])\n",
    "\n",
    "            # choose new b_hat from remaining\n",
    "            b_hat = b_win[np.random.choice(len(b_win))]\n",
    "            W = np.array(W[(~(np.isin(W, b_hat)))])\n",
    "            wins = np.zeros((K, K))\n",
    "            P_hat = np.ones((K, K))*1/2\n",
    "            n_rounds = np.zeros((K, K))\n",
    "            c_hat = np.empty((K, K))\n",
    "    \n",
    "    return (b_hat, T_hat)"
   ]
  },
  {
   "cell_type": "code",
   "execution_count": 167,
   "metadata": {},
   "outputs": [
    {
     "name": "stdout",
     "output_type": "stream",
     "text": [
      "(9, 28248)\n"
     ]
    }
   ],
   "source": [
    "bandit = DuelingBandits(K, Eps, K-1, T)\n",
    "print(IF2(T, K, bandit))"
   ]
  },
  {
   "cell_type": "code",
   "execution_count": 171,
   "metadata": {},
   "outputs": [],
   "source": [
    "import pdb\n",
    "def btmb(T, K, bandit):\n",
    "    # runs beat the mean bandit for K dueling-bandits with time horizon T\n",
    "    delta = 1/(2*K*T)\n",
    "    arm_histories = {i:{'history':[]} for i in range(K)} #same as arms, but only add results for b\n",
    "    \n",
    "    def confidence(n):\n",
    "        # returns confidence interval for this many draws\n",
    "        if n > 1:\n",
    "            r = math.sqrt(1/n * math.log(1/delta))\n",
    "        else:\n",
    "            r = 1\n",
    "        return r\n",
    "    \n",
    "    W = np.arange(0, K)\n",
    "    num_comp = np.zeros(K)\n",
    "    num_wins = np.zeros(K)\n",
    "    P_hat = np.ones(K)*1/2\n",
    "    # choose random bandit to start with out of those with fewest pulls\n",
    "    c_star = 1\n",
    "    t = 0\n",
    "    while len(W) > 1 and t < T:\n",
    "        b = W[np.random.choice(np.flatnonzero(num_comp[W] == np.min(num_comp[W])))]\n",
    "        b_prime = np.random.choice(W[(~(np.isin(W, b)))])\n",
    "        res = bandit.pull_arms(b, b_prime)\n",
    "        if res == b:\n",
    "            losing_arm = b_prime\n",
    "        else:\n",
    "            losing_arm = b\n",
    "        arm_histories[b]['history'].append({\"winner\": res, \"loser\": losing_arm})\n",
    "        num_comp[b] += 1\n",
    "        c_star = confidence(num_comp[b])\n",
    "        \n",
    "        if b == res:\n",
    "            num_wins[b] += 1\n",
    "            P_hat[b] = num_wins[b]/num_comp[b] \n",
    "        \n",
    "        t += 1\n",
    "        if np.min(P_hat[W] + c_star) <= np.max(P_hat[W] - c_star):\n",
    "            b_prime = W[np.random.choice(np.flatnonzero(P_hat[W] == np.min(P_hat[W])))]\n",
    "            W = np.array(W[(~(np.isin(W, b_prime)))])\n",
    "            # remove comparisons with b_prime from num_wins, num_comp\n",
    "            for b in W:\n",
    "                losers = np.array([i['loser'] for i in arm_histories[b]['history']])\n",
    "                num_beat_b_prime = np.sum(losers == b_prime)\n",
    "                \n",
    "                winners = [i['winner'] for i in arm_histories[b]['history']]\n",
    "                num_lost_to_b_prime = np.sum(winners == b_prime)\n",
    "\n",
    "                num_wins[b] = num_wins[b] - num_beat_b_prime\n",
    "                num_comp[b] = num_comp[b] - (num_beat_b_prime + num_lost_to_b_prime)\n",
    "    return W[np.argmax(P_hat[W])]\n",
    "            \n",
    "            \n",
    "            \n"
   ]
  },
  {
   "cell_type": "code",
   "execution_count": 169,
   "metadata": {},
   "outputs": [
    {
     "name": "stdout",
     "output_type": "stream",
     "text": [
      "removed:  0\n",
      "removed:  1\n",
      "removed:  2\n",
      "removed:  3\n",
      "removed:  4\n",
      "removed:  5\n",
      "removed:  6\n",
      "removed:  7\n",
      "removed:  8\n",
      "[0.39023256 0.38087774 0.3966531  0.3770235  0.39938623 0.41087379\n",
      " 0.38492063 0.41310212 0.39554318 0.59904535]\n",
      "9\n"
     ]
    }
   ],
   "source": [
    "bandit = DuelingBandits(K, Eps, K-1, T)\n",
    "print(btmb(T, K, bandit))"
   ]
  },
  {
   "cell_type": "code",
   "execution_count": 170,
   "metadata": {},
   "outputs": [
    {
     "name": "stdout",
     "output_type": "stream",
     "text": [
      "40372\n"
     ]
    }
   ],
   "source": [
    "print(bandit.total_pulls)"
   ]
  },
  {
   "cell_type": "code",
   "execution_count": 184,
   "metadata": {},
   "outputs": [
    {
     "name": "stdout",
     "output_type": "stream",
     "text": [
      "2\n",
      "3\n",
      "4\n",
      "5\n",
      "6\n",
      "7\n",
      "8\n",
      "9\n",
      "10\n",
      "11\n",
      "12\n",
      "13\n",
      "14\n",
      "15\n",
      "16\n",
      "17\n",
      "18\n",
      "19\n",
      "20\n",
      "21\n",
      "22\n",
      "23\n",
      "24\n",
      "25\n",
      "26\n",
      "27\n",
      "28\n",
      "29\n",
      "30\n",
      "31\n",
      "32\n",
      "33\n",
      "34\n",
      "35\n",
      "36\n",
      "37\n",
      "38\n",
      "39\n",
      "40\n",
      "41\n",
      "42\n",
      "43\n",
      "44\n",
      "45\n",
      "46\n",
      "47\n",
      "48\n",
      "49\n",
      "50\n",
      "51\n",
      "52\n",
      "53\n",
      "54\n",
      "55\n",
      "56\n",
      "57\n",
      "58\n",
      "59\n",
      "60\n",
      "61\n",
      "62\n",
      "63\n",
      "64\n",
      "65\n",
      "66\n",
      "67\n",
      "68\n",
      "69\n",
      "70\n",
      "71\n",
      "72\n",
      "73\n",
      "74\n",
      "75\n",
      "76\n",
      "77\n",
      "78\n",
      "79\n",
      "80\n",
      "81\n",
      "82\n",
      "83\n",
      "84\n",
      "85\n",
      "86\n",
      "87\n",
      "88\n",
      "89\n",
      "90\n",
      "91\n",
      "92\n",
      "93\n",
      "94\n",
      "95\n",
      "96\n",
      "97\n",
      "98\n",
      "99\n",
      "100\n"
     ]
    }
   ],
   "source": [
    "IF_1_regret = np.zeros(100)\n",
    "IF_2_regret = np.zeros(100)\n",
    "btmb_regret = np.zeros(100)\n",
    "\n",
    "for K in range(2, 101):\n",
    "    T = 1e10 # time horizon\n",
    "    Eps = np.zeros((K, K))\n",
    "    for i in range(K):\n",
    "        for j in range(i+1, K):\n",
    "            Eps[i, j] = -0.1\n",
    "            Eps[j, i] = 0.1\n",
    "    \n",
    "    bandit = DuelingBandits(K, Eps, K-1, T)\n",
    "    IF1(T, K, bandit)\n",
    "    IF_1_regret[K-2] = bandit.regret\n",
    "    \n",
    "    bandit = DuelingBandits(K, Eps, K-1, T)\n",
    "    IF2(T, K, bandit)\n",
    "    IF_2_regret[K-2] = bandit.regret \n",
    "    \n",
    "    bandit = DuelingBandits(K, Eps, K-1, T)\n",
    "    btmb(T, K, bandit)\n",
    "    btmb_regret[K-2] = bandit.regret\n",
    "    print(K)"
   ]
  },
  {
   "cell_type": "code",
   "execution_count": 185,
   "metadata": {},
   "outputs": [
    {
     "name": "stdout",
     "output_type": "stream",
     "text": [
      "[1.2890000e+02 5.1960000e+02 7.0955000e+02 4.3280000e+02 2.1033500e+03\n",
      " 8.3005000e+02 2.9748000e+03 5.7168500e+03 1.1728500e+03 2.8283000e+03\n",
      " 5.0981500e+03 7.3973000e+03 3.7843000e+03 4.5564000e+03 8.6912000e+03\n",
      " 1.1094500e+04 1.0164400e+04 9.4603500e+03 1.2622650e+04 1.1241100e+04\n",
      " 1.0350200e+04 9.9357000e+03 1.2637050e+04 1.9574900e+04 1.7269450e+04\n",
      " 1.8036150e+04 2.1452200e+04 8.3043500e+03 2.0411200e+04 1.4715000e+04\n",
      " 1.7598700e+04 1.7842900e+04 2.4951450e+04 1.8178200e+04 2.8726750e+04\n",
      " 3.2333750e+04 3.7130450e+04 3.5319650e+04 2.4636300e+04 2.2089400e+04\n",
      " 2.9604700e+04 3.5965350e+04 2.4032200e+04 3.7241350e+04 3.9806850e+04\n",
      " 3.2140450e+04 4.2938700e+04 1.7882450e+04 4.1723500e+04 3.4467400e+04\n",
      " 5.8161350e+04 4.1123950e+04 4.8807300e+04 4.9278650e+04 5.8702100e+04\n",
      " 2.1686050e+04 5.1785850e+04 5.4234200e+04 2.4965900e+04 4.9464700e+04\n",
      " 3.4448750e+04 3.0663900e+04 4.6896100e+04 5.9695750e+04 5.7560700e+04\n",
      " 5.1990800e+04 5.0312500e+04 6.2811850e+04 4.0884750e+04 8.1931250e+04\n",
      " 4.4443250e+04 9.1486250e+04 8.1127950e+04 7.2081400e+04 5.6319800e+04\n",
      " 5.4138400e+04 8.5562100e+04 5.8498650e+04 6.0153800e+04 1.1938505e+05\n",
      " 2.9986550e+04 5.8372900e+04 1.4645475e+05 6.8628800e+04 1.1113750e+05\n",
      " 6.2719150e+04 6.2966350e+04 5.1909650e+04 8.7171400e+04 7.7245200e+04\n",
      " 6.8882850e+04 7.4732500e+04 7.0034750e+04 1.0968930e+05 5.1905050e+04\n",
      " 5.6957750e+04 7.2221600e+04 7.7986400e+04 5.2285450e+04 0.0000000e+00]\n"
     ]
    }
   ],
   "source": [
    "print(IF_1_regret)"
   ]
  },
  {
   "cell_type": "code",
   "execution_count": 194,
   "metadata": {},
   "outputs": [
    {
     "ename": "TypeError",
     "evalue": "'function' object is not subscriptable",
     "output_type": "error",
     "traceback": [
      "\u001b[0;31m---------------------------------------------------------------------------\u001b[0m",
      "\u001b[0;31mTypeError\u001b[0m                                 Traceback (most recent call last)",
      "Cell \u001b[0;32mIn [194], line 6\u001b[0m\n\u001b[1;32m      4\u001b[0m plt\u001b[38;5;241m.\u001b[39mplot(np\u001b[38;5;241m.\u001b[39marange(\u001b[38;5;241m2\u001b[39m, \u001b[38;5;241m101\u001b[39m), IF_2_regret[:\u001b[38;5;241m-\u001b[39m\u001b[38;5;241m1\u001b[39m])\n\u001b[1;32m      5\u001b[0m plt\u001b[38;5;241m.\u001b[39mshow\n\u001b[0;32m----> 6\u001b[0m plt\u001b[38;5;241m.\u001b[39mplot(np\u001b[38;5;241m.\u001b[39marange(\u001b[38;5;241m2\u001b[39m, \u001b[38;5;241m101\u001b[39m), \u001b[43mbtmb\u001b[49m\u001b[43m[\u001b[49m\u001b[43m:\u001b[49m\u001b[38;5;241;43m-\u001b[39;49m\u001b[38;5;241;43m1\u001b[39;49m\u001b[43m]\u001b[49m)\n\u001b[1;32m      7\u001b[0m plt\u001b[38;5;241m.\u001b[39mshow\n",
      "\u001b[0;31mTypeError\u001b[0m: 'function' object is not subscriptable"
     ]
    },
    {
     "data": {
      "image/png": "[encoded data removed]",
      "text/plain": [
       "<Figure size 640x480 with 1 Axes>"
      ]
     },
     "metadata": {},
     "output_type": "display_data"
    }
   ],
   "source": [
    "import matplotlib.pyplot as plt\n",
    "plt.plot(np.arange(2, 101), IF_1_regret[:-1])\n",
    "plt.show\n",
    "plt.plot(np.arange(2, 101), IF_2_regret[:-1])\n",
    "plt.show\n",
    "plt.plot(np.arange(2, 101), btmb_regret[:-1])\n",
    "plt.show"
   ]
  },
  {
   "cell_type": "code",
   "execution_count": 192,
   "metadata": {},
   "outputs": [
    {
     "data": {
      "text/plain": [
       "(99,)"
      ]
     },
     "execution_count": 192,
     "metadata": {},
     "output_type": "execute_result"
    }
   ],
   "source": []
  },
  {
   "cell_type": "code",
   "execution_count": 189,
   "metadata": {},
   "outputs": [
    {
     "name": "stdout",
     "output_type": "stream",
     "text": [
      "Collecting matplotlib\n",
      "  Downloading matplotlib-3.8.2-cp39-cp39-macosx_10_12_x86_64.whl (7.6 MB)\n",
      "\u001b[K     |████████████████████████████████| 7.6 MB 3.8 MB/s eta 0:00:01\n",
      "\u001b[?25hCollecting kiwisolver>=1.3.1\n",
      "  Downloading kiwisolver-1.4.5-cp39-cp39-macosx_10_9_x86_64.whl (68 kB)\n",
      "\u001b[K     |████████████████████████████████| 68 kB 15.7 MB/s eta 0:00:01\n",
      "\u001b[?25hCollecting importlib-resources>=3.2.0\n",
      "  Downloading importlib_resources-6.1.1-py3-none-any.whl (33 kB)\n",
      "Requirement already satisfied: pyparsing>=2.3.1 in /Library/Frameworks/Python.framework/Versions/3.9/lib/python3.9/site-packages (from matplotlib) (3.0.9)\n",
      "Collecting pillow>=8\n",
      "  Downloading Pillow-10.1.0-cp39-cp39-macosx_10_10_x86_64.whl (3.5 MB)\n",
      "\u001b[K     |████████████████████████████████| 3.5 MB 39.1 MB/s eta 0:00:01\n",
      "\u001b[?25hCollecting cycler>=0.10\n",
      "  Downloading cycler-0.12.1-py3-none-any.whl (8.3 kB)\n",
      "Requirement already satisfied: numpy<2,>=1.21 in /Library/Frameworks/Python.framework/Versions/3.9/lib/python3.9/site-packages (from matplotlib) (1.26.2)\n",
      "Requirement already satisfied: python-dateutil>=2.7 in /Library/Frameworks/Python.framework/Versions/3.9/lib/python3.9/site-packages (from matplotlib) (2.8.2)\n",
      "Requirement already satisfied: packaging>=20.0 in /Library/Frameworks/Python.framework/Versions/3.9/lib/python3.9/site-packages (from matplotlib) (21.3)\n",
      "Collecting contourpy>=1.0.1\n",
      "  Downloading contourpy-1.2.0-cp39-cp39-macosx_10_9_x86_64.whl (257 kB)\n",
      "\u001b[K     |████████████████████████████████| 257 kB 42.2 MB/s eta 0:00:01\n",
      "\u001b[?25hCollecting fonttools>=4.22.0\n",
      "  Downloading fonttools-4.45.1-cp39-cp39-macosx_10_9_x86_64.whl (2.3 MB)\n",
      "\u001b[K     |████████████████████████████████| 2.3 MB 68.2 MB/s eta 0:00:01\n",
      "\u001b[?25hRequirement already satisfied: zipp>=3.1.0 in /Library/Frameworks/Python.framework/Versions/3.9/lib/python3.9/site-packages (from importlib-resources>=3.2.0->matplotlib) (3.17.0)\n",
      "Requirement already satisfied: six>=1.5 in /Library/Frameworks/Python.framework/Versions/3.9/lib/python3.9/site-packages (from python-dateutil>=2.7->matplotlib) (1.16.0)\n",
      "Installing collected packages: pillow, kiwisolver, importlib-resources, fonttools, cycler, contourpy, matplotlib\n",
      "Successfully installed contourpy-1.2.0 cycler-0.12.1 fonttools-4.45.1 importlib-resources-6.1.1 kiwisolver-1.4.5 matplotlib-3.8.2 pillow-10.1.0\n",
      "\u001b[33mWARNING: You are using pip version 21.2.4; however, version 23.3.1 is available.\n",
      "You should consider upgrading via the '/Library/Frameworks/Python.framework/Versions/3.9/bin/python3.9 -m pip install --upgrade pip' command.\u001b[0m\n",
      "Note: you may need to restart the kernel to use updated packages.\n"
     ]
    }
   ],
   "source": [
    "pip install matplotlib\n"
   ]
  },
  {
   "cell_type": "code",
   "execution_count": null,
   "metadata": {},
   "outputs": [],
   "source": []
  }
 ],
 "metadata": {
  "kernelspec": {
   "display_name": "Python 3 (ipykernel)",
   "language": "python",
   "name": "python3"
  },
  "language_info": {
   "codemirror_mode": {
    "name": "ipython",
    "version": 3
   },
   "file_extension": ".py",
   "mimetype": "text/x-python",
   "name": "python",
   "nbconvert_exporter": "python",
   "pygments_lexer": "ipython3",
   "version": "3.9.10"
  },
  "vscode": {
   "interpreter": {
    "hash": "397704579725e15f5c7cb49fe5f0341eb7531c82d19f2c29d197e8b64ab5776b"
   }
  }
 },
 "nbformat": 4,
 "nbformat_minor": 4
}
